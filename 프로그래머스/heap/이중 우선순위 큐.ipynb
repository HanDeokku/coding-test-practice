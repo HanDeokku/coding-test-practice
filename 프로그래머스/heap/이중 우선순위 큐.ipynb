{
 "cells": [
  {
   "cell_type": "code",
   "execution_count": null,
   "metadata": {},
   "outputs": [],
   "source": [
    "import heapq\n",
    "\n",
    "def solution(operations):\n",
    "    heap = []\n",
    "    answer = []\n",
    "    for opr in operations:\n",
    "        li = opr.split(' ')\n",
    "        if li[0] == 'I':\n",
    "            heapq.heappush(heap, (int(li[1]), int(li[1])))\n",
    "        else:\n",
    "            if li[1] == '-1':\n",
    "                if len(heap) > 0:\n",
    "                    heap = makeMin(heap)\n",
    "                    heapq.heappop(heap)\n",
    "            else:\n",
    "                if len(heap) > 0:\n",
    "                    heap = makeMax(heap)\n",
    "                    heapq.heappop(heap)\n",
    "    \n",
    "    if len(heap) > 1:\n",
    "        heap = makeMax(heap)\n",
    "        max = heapq.heappop(heap)\n",
    "        answer.append(max[1])\n",
    "        heap = makeMin(heap)\n",
    "        min = heapq.heappop(heap)\n",
    "        answer.append(min[1])\n",
    "    elif len(heap) == 1:\n",
    "        m = heapq.heappop(heap)\n",
    "        answer = [m[1], m[1]]\n",
    "    else:\n",
    "        answer = [0, 0]\n",
    "                \n",
    "    return answer\n",
    "\n",
    "def makeMin(heap):\n",
    "    new = []\n",
    "    for item in heap:\n",
    "        heapq.heappush(new, (item[1], item[1]))\n",
    "    \n",
    "    return new\n",
    "\n",
    "def makeMax(heap):\n",
    "    new = []\n",
    "    for item in heap:\n",
    "        heapq.heappush(new, (-item[1], item[1]))\n",
    "        \n",
    "    return new"
   ]
  }
 ],
 "metadata": {
  "language_info": {
   "name": "python"
  }
 },
 "nbformat": 4,
 "nbformat_minor": 2
}
