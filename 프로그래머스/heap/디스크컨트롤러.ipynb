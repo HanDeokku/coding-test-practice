{
 "cells": [
  {
   "cell_type": "code",
   "execution_count": null,
   "metadata": {},
   "outputs": [],
   "source": [
    "import heapq\n",
    "\n",
    "def solution(jobs):\n",
    "    heap = []\n",
    "    start = 0\n",
    "    for r, t in jobs:\n",
    "        heapq.heappush(heap, ((start + t + r), r, t))\n",
    "    \n",
    "    time = 0\n",
    "    while len(heap) >= 1:\n",
    "        end, r, t = heapq.heappop(heap)\n",
    "        time += (end - r)\n",
    "        heap = makeHeapq(heap, end)\n",
    "        \n",
    "    return time // len(jobs)\n",
    "\n",
    "def makeHeapq(heap, end):\n",
    "    new_heap = []\n",
    "    for _, r, t in heap:\n",
    "        heapq.heappush(new_heap, ((end + t), r, t))\n",
    "    \n",
    "    return new_heap\n",
    "        \n",
    "\n",
    "\n",
    "# jobs를 최소힙으로 만드는데 종료시간을 추가하여 계산한다.\n",
    "# 제일 작은거 찾으면 원위치 시키자\n",
    "# 1. jobs에 종료시간 파라미터 추가, 최소힙으로 만들기\n",
    "# 2. jobs 제일 작은거 뽑아서 (종료 - 요청)을 time에 추가\n",
    "# 3. jobs 파라미터 원위치 (종료시간 - 소요시간)\n",
    "# 4. 반복"
   ]
  },
  {
   "cell_type": "code",
   "execution_count": null,
   "metadata": {},
   "outputs": [],
   "source": [
    "import heapq\n",
    "\n",
    "def solution(jobs):\n",
    "    answer = 0\n",
    "    end = -1\n",
    "    now = 0\n",
    "    cnt = 0\n",
    "    heap = []\n",
    "    \n",
    "    while cnt < len(jobs):\n",
    "        for job in jobs:\n",
    "            if end < job[0] <= now:\n",
    "                heapq.heappush(heap, (job[1], job[0]))\n",
    "                \n",
    "        if heap:\n",
    "            task = heapq.heappop(heap)\n",
    "            end = now\n",
    "            now += task[0]\n",
    "            answer += (now - task[1])\n",
    "            cnt += 1            \n",
    "        else:\n",
    "            now += 1\n",
    "    \n",
    "    \n",
    "    return answer // len(jobs)\n",
    "\n",
    "# 시간이 지나면서 가능한걸 체크\n",
    "# 0초부터 시작\n",
    "# 가능하면 heap에 넣고 소요시간이 짧은거부터 처리\n",
    "# 시간초 추가\n",
    "# 종료시간 추가"
   ]
  }
 ],
 "metadata": {
  "language_info": {
   "name": "python"
  }
 },
 "nbformat": 4,
 "nbformat_minor": 2
}
